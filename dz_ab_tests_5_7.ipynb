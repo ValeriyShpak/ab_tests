{
 "cells": [
  {
   "cell_type": "markdown",
   "id": "19dbf7cd",
   "metadata": {},
   "source": [
    "# Задача 1"
   ]
  },
  {
   "cell_type": "markdown",
   "id": "a2ef4fda",
   "metadata": {},
   "source": [
    "Для маркетингового исследования случайным образом необходимо отобрать N людей. Этим людям\n",
    "далее демонстрируется кофе марки Nescafe в упаковке с новым дизайном: вместо классической этикетки\n",
    "в коричнево-золотых тонах – новогодняя этикетка в красно-зеленых тонах. После этого фиксируется,\n",
    "сколько людей захотели купить этот кофе, а точнее, доля таких людей.\n",
    "\n",
    "Рассчитайте необходимый объем выборки для тестовой группы, если известно, что\n",
    "- выбран 95%-ный уровень доверия;\n",
    "- погрешность не должна превышать 3%;\n",
    "- нет определенных ожиданий относительно доли людей, которые захотят кофе с измененным дизайном этикетки (считается, что человек с равной вероятностью выберет кофе или не выберет)."
   ]
  },
  {
   "cell_type": "code",
   "execution_count": 2,
   "id": "1e35acf9",
   "metadata": {},
   "outputs": [
    {
     "name": "stdout",
     "output_type": "stream",
     "text": [
      "Объём тестовой выборки составляет: 1067\n"
     ]
    }
   ],
   "source": [
    "# Для уровня доверия 95% z = 1.96:\n",
    "\n",
    "z = 1.96\n",
    "\n",
    "error = 0.03\n",
    "\n",
    "p = 0.5\n",
    "\n",
    "n = z**2 * p * (1 - p) / error**2\n",
    "\n",
    "print('Объём тестовой выборки составляет: ' + str(round(n)))"
   ]
  },
  {
   "cell_type": "markdown",
   "id": "28647760",
   "metadata": {},
   "source": [
    "# Задача 2"
   ]
  },
  {
   "cell_type": "markdown",
   "id": "103d3bde",
   "metadata": {},
   "source": [
    "Решите задачу 1, учитывая, что теперь ожидаемая доля людей, которые захотят купить кофе с\n",
    "измененным дизайном этикетки, известна и равна 0.67 (группа аналитиков нашла старый отчет с\n",
    "результатами аналогичного эксперимента).\n",
    "\n",
    "Какой из необходимых объемов выборки больше: в случае, когда мы считаем, что шансы выбрать и не\n",
    "выбрать кофе одинаковы или в случае, когда ожидаемая доля выбравших кофе нам известна и равна\n",
    "0.67? \n",
    "\n",
    "Сделайте вывод о связи между ожидаемой долей и необходимым объемом выборки при прочих\n",
    "равных условиях (тот же уровень доверия)."
   ]
  },
  {
   "cell_type": "code",
   "execution_count": 3,
   "id": "eb798b13",
   "metadata": {},
   "outputs": [
    {
     "name": "stdout",
     "output_type": "stream",
     "text": [
      "Объём тестовой выборки составляет: 1430\n"
     ]
    }
   ],
   "source": [
    "z = 1.96\n",
    "\n",
    "error = 0.03\n",
    "\n",
    "p_2 = 0.67\n",
    "\n",
    "n_2 = z**2 * p_2 * (1 - p) / error**2\n",
    "\n",
    "print('Объём тестовой выборки составляет: ' + str(round(n_2)))"
   ]
  },
  {
   "cell_type": "markdown",
   "id": "6b720639",
   "metadata": {},
   "source": [
    "### Выводы:\n",
    "1. Для p=0.67 необходимый объём выборки больше, чем для P=0.5.\n",
    "2. Чем больше ожидаемая доля, тем больше необходимый объём выборки."
   ]
  },
  {
   "cell_type": "markdown",
   "id": "3c23c61a",
   "metadata": {},
   "source": [
    "# Задача 3"
   ]
  },
  {
   "cell_type": "markdown",
   "id": "bd88ea1f",
   "metadata": {},
   "source": [
    "В файле experiment.csv сохранены результаты эксперимента, описанного в задаче 1. \n",
    "\n",
    "Данные представляют собой последовательности из 0 и 1, где:\n",
    "- 1 соответствуют людям, которые захотели выбрать кофе с измененным дизайном этикетки, \n",
    "- 0 - людям, которые не захотели.\n",
    "\n",
    "Описание данных:\n",
    "\n",
    "test: результаты по тестовой группе (людям предлагали кофе с новым дизайном этикетки); \n",
    "\n",
    "control: контрольная группа (людям предлагали кофе со старым дизайном этикетки).\n",
    "\n",
    "## Подзадачи\n",
    "\n",
    "1. Загрузите данные из файла experiment.csv.\n",
    "2. Постройте 90%-ный доверительный интервал для доли людей, которые захотели купить кофе, в тестовой группе. Проинтерпретируйте полученный доверительный интервал. В решении приведите используемый код, границы доверительного интервала и текст с интерпретацией.\n",
    "3. Постройте 90%-ный доверительный интервал для доли людей, которые захотели купить кофе, в контрольной группе. Проинтерпретируйте полученный доверительный интервал. В решении приведите используемый код, границы доверительного интервала и текст с интерпретацией.\n",
    "4. Сравните полученные доверительные интервалы для тестовой и контрольной группы. Можно ли на основании полученных результатов сделать определенный вывод о том, что новый дизайн этикетки лучше (привлекает больше потенциальных покупателей)? Приведите ваши выводы и объяснения.\n",
    "5. Выполните пункты 1-3 в R. Изменились ли ваши выводы относительно полезности нового дизайна этикетки? Приведите код, результаты и текст с выводами."
   ]
  },
  {
   "cell_type": "markdown",
   "id": "f38f47e5",
   "metadata": {},
   "source": [
    "## 1. Загрузим данные из файла experiment.csv."
   ]
  },
  {
   "cell_type": "code",
   "execution_count": 4,
   "id": "b4b0af29",
   "metadata": {},
   "outputs": [],
   "source": [
    "import pandas as pd\n",
    "\n",
    "df = pd.read_csv('experiment.csv')"
   ]
  },
  {
   "cell_type": "markdown",
   "id": "a4e64671",
   "metadata": {},
   "source": [
    "## Исходный датафрейм:"
   ]
  },
  {
   "cell_type": "code",
   "execution_count": 5,
   "id": "8c76d1e5",
   "metadata": {},
   "outputs": [
    {
     "data": {
      "text/html": [
       "<div>\n",
       "<style scoped>\n",
       "    .dataframe tbody tr th:only-of-type {\n",
       "        vertical-align: middle;\n",
       "    }\n",
       "\n",
       "    .dataframe tbody tr th {\n",
       "        vertical-align: top;\n",
       "    }\n",
       "\n",
       "    .dataframe thead th {\n",
       "        text-align: right;\n",
       "    }\n",
       "</style>\n",
       "<table border=\"1\" class=\"dataframe\">\n",
       "  <thead>\n",
       "    <tr style=\"text-align: right;\">\n",
       "      <th></th>\n",
       "      <th>Unnamed: 0</th>\n",
       "      <th>control</th>\n",
       "      <th>test</th>\n",
       "    </tr>\n",
       "  </thead>\n",
       "  <tbody>\n",
       "    <tr>\n",
       "      <th>0</th>\n",
       "      <td>1</td>\n",
       "      <td>0</td>\n",
       "      <td>0</td>\n",
       "    </tr>\n",
       "    <tr>\n",
       "      <th>1</th>\n",
       "      <td>2</td>\n",
       "      <td>1</td>\n",
       "      <td>1</td>\n",
       "    </tr>\n",
       "    <tr>\n",
       "      <th>2</th>\n",
       "      <td>3</td>\n",
       "      <td>0</td>\n",
       "      <td>0</td>\n",
       "    </tr>\n",
       "    <tr>\n",
       "      <th>3</th>\n",
       "      <td>4</td>\n",
       "      <td>0</td>\n",
       "      <td>0</td>\n",
       "    </tr>\n",
       "    <tr>\n",
       "      <th>4</th>\n",
       "      <td>5</td>\n",
       "      <td>0</td>\n",
       "      <td>0</td>\n",
       "    </tr>\n",
       "    <tr>\n",
       "      <th>...</th>\n",
       "      <td>...</td>\n",
       "      <td>...</td>\n",
       "      <td>...</td>\n",
       "    </tr>\n",
       "    <tr>\n",
       "      <th>995</th>\n",
       "      <td>996</td>\n",
       "      <td>0</td>\n",
       "      <td>1</td>\n",
       "    </tr>\n",
       "    <tr>\n",
       "      <th>996</th>\n",
       "      <td>997</td>\n",
       "      <td>1</td>\n",
       "      <td>0</td>\n",
       "    </tr>\n",
       "    <tr>\n",
       "      <th>997</th>\n",
       "      <td>998</td>\n",
       "      <td>0</td>\n",
       "      <td>1</td>\n",
       "    </tr>\n",
       "    <tr>\n",
       "      <th>998</th>\n",
       "      <td>999</td>\n",
       "      <td>1</td>\n",
       "      <td>1</td>\n",
       "    </tr>\n",
       "    <tr>\n",
       "      <th>999</th>\n",
       "      <td>1000</td>\n",
       "      <td>1</td>\n",
       "      <td>1</td>\n",
       "    </tr>\n",
       "  </tbody>\n",
       "</table>\n",
       "<p>1000 rows × 3 columns</p>\n",
       "</div>"
      ],
      "text/plain": [
       "     Unnamed: 0  control  test\n",
       "0             1        0     0\n",
       "1             2        1     1\n",
       "2             3        0     0\n",
       "3             4        0     0\n",
       "4             5        0     0\n",
       "..          ...      ...   ...\n",
       "995         996        0     1\n",
       "996         997        1     0\n",
       "997         998        0     1\n",
       "998         999        1     1\n",
       "999        1000        1     1\n",
       "\n",
       "[1000 rows x 3 columns]"
      ]
     },
     "execution_count": 5,
     "metadata": {},
     "output_type": "execute_result"
    }
   ],
   "source": [
    "df"
   ]
  },
  {
   "cell_type": "markdown",
   "id": "6d0c839e",
   "metadata": {},
   "source": [
    "## 2. Построим 90%-ный доверительный интервал для доли людей, которые захотели купить кофе, в тестовой группе. \n",
    "- Проинтерпретируем полученный доверительный интервал. \n",
    "- В решении приведём используемый код, границы доверительного интервала и текст с интерпретацией."
   ]
  },
  {
   "cell_type": "code",
   "execution_count": 55,
   "id": "a32bd1ac",
   "metadata": {},
   "outputs": [
    {
     "name": "stdout",
     "output_type": "stream",
     "text": [
      "Доверительный интервал: (0.5513028270740822, 0.6026971729259177)\n"
     ]
    },
    {
     "data": {
      "image/png": "[encoded data removed]",
      "text/plain": [
       "<Figure size 432x288 with 1 Axes>"
      ]
     },
     "metadata": {
      "needs_background": "light"
     },
     "output_type": "display_data"
    }
   ],
   "source": [
    "import scipy.stats as st\n",
    "\n",
    "import matplotlib.pyplot as plt\n",
    "\n",
    "import numpy as np\n",
    "\n",
    "# Уровень доверия:\n",
    "\n",
    "confidence = 0.9\n",
    "\n",
    "# Количество людей, принявших участие в эксперименте:\n",
    "\n",
    "n_3 = len(df)\n",
    "\n",
    "# Доля людей, захотевших купить кофе, в тестовой группе:\n",
    "\n",
    "test_p = df['test'][df['test'] == 1].count() / n_3\n",
    "\n",
    "# Вычислим значение стендартной ошибки доли:\n",
    "\n",
    "test_se = (test_p * (1 - test_p) / n_3)**0.5\n",
    "\n",
    "# Вычислим доверительный интервал:\n",
    "\n",
    "test_interval = st.norm.interval(confidence, test_p, test_se)\n",
    "\n",
    "print('Доверительный интервал: ' + str(test_interval))\n",
    "\n",
    "# Построим доверительный интервал:\n",
    "\n",
    "plt.axhline(y=test_interval[1], color=\"g\", linestyle=\"-\", label='max_test ' + str(round(test_interval[1], 3)))\n",
    "\n",
    "plt.axhline(y=test_interval[0], color=\"r\", linestyle=\"-\", label='min_test ' + str(round(test_interval[0], 3)))\n",
    "\n",
    "plt.ylim([0.5, 0.7])\n",
    "\n",
    "plt.legend()\n",
    "\n",
    "plt.title(\"Доверительный интервал\")\n",
    "\n",
    "plt.show()"
   ]
  },
  {
   "cell_type": "markdown",
   "id": "15965186",
   "metadata": {},
   "source": [
    "### 90-% доверительный интервал для доли людей из тестовой группы, захотевших купить кофе, лежит в пределах от 0.551 до 0.603."
   ]
  },
  {
   "cell_type": "markdown",
   "id": "430280dd",
   "metadata": {},
   "source": [
    "## 3. Построим 90%-ный доверительный интервал для доли людей, которые захотели купить кофе, в контрольной группе. \n",
    "- Проинтерпретируем полученный доверительный интервал. \n",
    "- В решении приведём используемый код, границы доверительного интервала и текст с интерпретацией."
   ]
  },
  {
   "cell_type": "code",
   "execution_count": 59,
   "id": "2b65c886",
   "metadata": {},
   "outputs": [
    {
     "name": "stdout",
     "output_type": "stream",
     "text": [
      "Доверительный интервал: (0.4380600794294326, 0.4899399205705674)\n"
     ]
    },
    {
     "data": {
      "image/png": "[encoded data removed]",
      "text/plain": [
       "<Figure size 432x288 with 1 Axes>"
      ]
     },
     "metadata": {
      "needs_background": "light"
     },
     "output_type": "display_data"
    }
   ],
   "source": [
    "# Доля людей, захотевших купить кофе, в контрольной группе:\n",
    "\n",
    "control_p = df['control'][df['control'] == 1].count() / n_3\n",
    "\n",
    "# Вычислим значение стендартной ошибки доли:\n",
    "\n",
    "control_se = (p_3_2 * (1 - p_3_2) / n_3)**0.5\n",
    "\n",
    "# Вычислим доверительный интервал:\n",
    "\n",
    "control_interval = st.norm.interval(confidence, control_p, control_se)\n",
    "\n",
    "print('Доверительный интервал: ' + str(control_interval))\n",
    "\n",
    "# Построим доверительный интервал:\n",
    "\n",
    "plt.axhline(y=control_interval[1], color=\"g\", linestyle=\"--\", label='max_control ' + str(round(control_interval[1], 3)))\n",
    "\n",
    "plt.axhline(y=control_interval[0], color=\"r\", linestyle=\"--\", label='min_control ' + str(round(control_interval[0], 3)))\n",
    "\n",
    "plt.ylim([0.4, 0.55])\n",
    "\n",
    "plt.legend()\n",
    "\n",
    "plt.title(\"Доверительный интервал\")\n",
    "\n",
    "plt.show()"
   ]
  },
  {
   "cell_type": "markdown",
   "id": "d51ea399",
   "metadata": {},
   "source": [
    "### 90-% доверительный интервал для доли людей из контрольной группы, захотевших купить кофе, лежит в пределах от 0.438 до 0.49."
   ]
  },
  {
   "cell_type": "markdown",
   "id": "97f5e9fe",
   "metadata": {},
   "source": [
    "## 4. Сравним полученные доверительные интервалы для тестовой и контрольной группы. \n",
    "- Можно ли на основании полученных результатов сделать определенный вывод о том, что новый дизайн этикетки лучше (привлекает больше потенциальных покупателей)? \n",
    "- Приведите ваши выводы и объяснения."
   ]
  },
  {
   "cell_type": "markdown",
   "id": "93d93f96",
   "metadata": {},
   "source": [
    "### Построим оба интервала на одном графике:"
   ]
  },
  {
   "cell_type": "code",
   "execution_count": 63,
   "id": "575d8b99",
   "metadata": {},
   "outputs": [
    {
     "data": {
      "image/png": "[encoded data removed]",
      "text/plain": [
       "<Figure size 432x288 with 1 Axes>"
      ]
     },
     "metadata": {
      "needs_background": "light"
     },
     "output_type": "display_data"
    }
   ],
   "source": [
    "plt.axhline(y=test_interval[1], color=\"g\", linestyle=\"-\", label='max_test ' + str(round(test_interval[1], 3)))\n",
    "\n",
    "plt.axhline(y=test_interval[0], color=\"r\", linestyle=\"-\", label='min_test ' + str(round(test_interval[0], 3)))\n",
    "\n",
    "plt.axhline(y=control_interval[1], color=\"g\", linestyle=\"--\", label='max_control ' + str(round(control_interval[1], 3)))\n",
    "\n",
    "plt.axhline(y=control_interval[0], color=\"r\", linestyle=\"--\", label='min_control ' + str(round(control_interval[0], 3)))\n",
    "\n",
    "plt.legend()\n",
    "\n",
    "plt.ylim([0.4, 0.75])\n",
    "\n",
    "plt.title(\"Доверительный интервал\")\n",
    "\n",
    "plt.show()"
   ]
  },
  {
   "cell_type": "markdown",
   "id": "71b3fb79",
   "metadata": {},
   "source": [
    "### Вывод:\n",
    "Видим, что интервалы не пересекаются, и что доверительный интервал для тестовой группы лежит выше, чем для контрольной, примерной на 1. Значит при изменении дизайна этикетки конверсия покупок кофе будет повышена, и изменения стоит вносить."
   ]
  }
 ],
 "metadata": {
  "kernelspec": {
   "display_name": "Python 3",
   "language": "python",
   "name": "python3"
  },
  "language_info": {
   "codemirror_mode": {
    "name": "ipython",
    "version": 3
   },
   "file_extension": ".py",
   "mimetype": "text/x-python",
   "name": "python",
   "nbconvert_exporter": "python",
   "pygments_lexer": "ipython3",
   "version": "3.8.8"
  }
 },
 "nbformat": 4,
 "nbformat_minor": 5
}
